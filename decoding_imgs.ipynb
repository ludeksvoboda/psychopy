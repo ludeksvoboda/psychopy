{
 "cells": [
  {
   "cell_type": "code",
   "execution_count": null,
   "metadata": {},
   "outputs": [],
   "source": [
    "#You will need to check if in the begining and the end of the recording the correct frame(s) correspond with the start positon\n",
    "#of the previous point for begining and with the position of the actual point or the end of the reccording\n",
    "\"\"\"\n",
    "To check this you can record two points at two extremes of the screen, it should be quite obvious if it is working correctly from that,\n",
    "as the start frame should be basically the oposite of the end frame, also check something like 10 ending frames + next 10 starting frames and\n",
    "check carefully how the transition frame(s) (meaning last end frame and first start frame) look.\n",
    "\"\"\"\n",
    "\"\"\"CHECKED IT AND LOOKS GOOD\"\"\""
   ]
  },
  {
   "cell_type": "code",
   "execution_count": 3,
   "metadata": {},
   "outputs": [],
   "source": [
    "import pygame\n",
    "import numpy as np\n",
    "from PIL import Image\n",
    "import os\n",
    "\n",
    "ex_number = 70\n",
    "images = np.load('/home/lu/MLData/psychopyEyeClick/images'+ str(ex_number) +'.npy')\n",
    "\n",
    "os.mkdir('test_images/' + str(ex_number))\n",
    "i = 1\n",
    "for image in images:\n",
    "    image = Image.fromarray(image)\n",
    "    image.save('test_images/'+ str(ex_number) +'/' + str(i) + '.png')\n",
    "    i += 1\n",
    "\n",
    "# lens = []\n",
    "# for i in range(46, 67):\n",
    "#     images = np.load('/home/lu/MLData/psychopyEyeClick/images' + str(i)+'.npy')\n",
    "#     lens.append(len(images))"
   ]
  },
  {
   "cell_type": "code",
   "execution_count": 7,
   "metadata": {},
   "outputs": [
    {
     "data": {
      "text/plain": [
       "[44,\n",
       " 45,\n",
       " 43,\n",
       " 44,\n",
       " 43,\n",
       " 44,\n",
       " 43,\n",
       " 44,\n",
       " 43,\n",
       " 44,\n",
       " 43,\n",
       " 44,\n",
       " 43,\n",
       " 44,\n",
       " 43,\n",
       " 44,\n",
       " 43,\n",
       " 44,\n",
       " 43,\n",
       " 44,\n",
       " 43]"
      ]
     },
     "execution_count": 7,
     "metadata": {},
     "output_type": "execute_result"
    }
   ],
   "source": [
    "lens"
   ]
  }
 ],
 "metadata": {
  "kernelspec": {
   "display_name": "gaze38",
   "language": "python",
   "name": "python3"
  },
  "language_info": {
   "codemirror_mode": {
    "name": "ipython",
    "version": 3
   },
   "file_extension": ".py",
   "mimetype": "text/x-python",
   "name": "python",
   "nbconvert_exporter": "python",
   "pygments_lexer": "ipython3",
   "version": "3.8.0 (default, Aug  4 2022, 23:18:14) \n[GCC 11.2.0]"
  },
  "orig_nbformat": 4,
  "vscode": {
   "interpreter": {
    "hash": "7a3ebf4acb24d743a48b98974d2a7978e9d00eb07f273601fcf6c48254b08094"
   }
  }
 },
 "nbformat": 4,
 "nbformat_minor": 2
}
