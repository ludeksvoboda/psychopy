{
 "cells": [
  {
   "cell_type": "code",
   "execution_count": 6,
   "metadata": {},
   "outputs": [],
   "source": [
    "import pygame\n",
    "import numpy as np\n",
    "from PIL import Image\n",
    "\n",
    "images = np.load('/home/lu/MLData/psychopyEyeClick/images44.npy')\n",
    "\n",
    "# i = 1\n",
    "# for image in images:\n",
    "#     image = Image.fromarray(image)\n",
    "#     image.save('test_images/' + str(i) + '.png')\n",
    "#     i += 1\n",
    "\n",
    "lens = []\n",
    "for i in range(46, 67):\n",
    "    images = np.load('/home/lu/MLData/psychopyEyeClick/images' + str(i)+'.npy')\n",
    "    lens.append(len(images))"
   ]
  },
  {
   "cell_type": "code",
   "execution_count": 7,
   "metadata": {},
   "outputs": [
    {
     "data": {
      "text/plain": [
       "[44,\n",
       " 45,\n",
       " 43,\n",
       " 44,\n",
       " 43,\n",
       " 44,\n",
       " 43,\n",
       " 44,\n",
       " 43,\n",
       " 44,\n",
       " 43,\n",
       " 44,\n",
       " 43,\n",
       " 44,\n",
       " 43,\n",
       " 44,\n",
       " 43,\n",
       " 44,\n",
       " 43,\n",
       " 44,\n",
       " 43]"
      ]
     },
     "execution_count": 7,
     "metadata": {},
     "output_type": "execute_result"
    }
   ],
   "source": [
    "lens"
   ]
  }
 ],
 "metadata": {
  "kernelspec": {
   "display_name": "gaze38",
   "language": "python",
   "name": "python3"
  },
  "language_info": {
   "codemirror_mode": {
    "name": "ipython",
    "version": 3
   },
   "file_extension": ".py",
   "mimetype": "text/x-python",
   "name": "python",
   "nbconvert_exporter": "python",
   "pygments_lexer": "ipython3",
   "version": "3.8.0"
  },
  "orig_nbformat": 4,
  "vscode": {
   "interpreter": {
    "hash": "7a3ebf4acb24d743a48b98974d2a7978e9d00eb07f273601fcf6c48254b08094"
   }
  }
 },
 "nbformat": 4,
 "nbformat_minor": 2
}
